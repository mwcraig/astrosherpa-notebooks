{
 "cells": [
  {
   "cell_type": "markdown",
   "metadata": {},
   "source": [
    "Ok so lets define a simple Parameter class which has a value which is stored as a numpy as array.\n",
    "We also set a value property and setter\n",
    "Then we define a `tie` function which take a parameter as an input and sets the its own parameter with the numpy array of the other one"
   ]
  },
  {
   "cell_type": "code",
   "execution_count": 75,
   "metadata": {
    "collapsed": false
   },
   "outputs": [],
   "source": [
    "import numpy as np\n",
    "\n",
    "class Parameter(object):\n",
    "\n",
    "    def __init__(self, value):\n",
    "        self._value = np.array([value])\n",
    "        self._untied_value = self._value\n",
    "        self._tied=False\n",
    "        self._tied_args=None\n",
    "        self._tied_func=None\n",
    "        \n",
    "        \n",
    "    @property\n",
    "    def value(self):\n",
    "        # if tied to a function evaluate it and return else just return\n",
    "        # _value\n",
    "        if self._tied_func is None :\n",
    "            return self._value[0]\n",
    "        else:\n",
    "            return self._tied_func(*[arg for arg in self._tied_args])\n",
    "\n",
    "    @property\n",
    "    def tied(self):\n",
    "        return self._tied\n",
    "    \n",
    "    @value.setter\n",
    "    def value(self, value):\n",
    "        self._value[0] = value\n",
    "    \n",
    "    def tie(self, *args):\n",
    "        '''\n",
    "        if first arg is a parameter tie values \n",
    "        if first arg is a function put the rest of the args in a list \n",
    "        so function can be evaluated at a later time\n",
    "        '''\n",
    "        self._tied=True\n",
    "        if isinstance(args[0],Parameter):\n",
    "            #lets keep a handle on origonal value\n",
    "            self._untied_value=self._value \n",
    "            self._value = args[0]._value\n",
    "        elif callable(args[0]):\n",
    "            self._tied_func=args[0]\n",
    "            self._tied_args=[arg for arg in args[1:]]\n",
    "    \n",
    "    def untie(self):\n",
    "        '''\n",
    "        removes the tied things\n",
    "        '''\n",
    "        self._value=self._untied_value\n",
    "        self._tied=False\n",
    "        self._tied_args=None\n",
    "        self._tied_func=None"
   ]
  },
  {
   "cell_type": "markdown",
   "metadata": {},
   "source": [
    "So lets make some parameters and tie one to the other and test if the *tied* parameter changes when you set the other one"
   ]
  },
  {
   "cell_type": "code",
   "execution_count": 76,
   "metadata": {
    "collapsed": false,
    "scrolled": true
   },
   "outputs": [
    {
     "name": "stdout",
     "output_type": "stream",
     "text": [
      "original: 5\n",
      "tied: 6\n",
      "updated: 10\n"
     ]
    }
   ],
   "source": [
    "pp = Parameter(5)\n",
    "qq = Parameter(6)\n",
    "print \"original:\", pp.value #output original value\n",
    "pp.tie(qq)\n",
    "print \"tied:\", pp.value #output tied value\n",
    "qq.value = 10\n",
    "print \"updated:\", pp.value #output changes value (hopefully)"
   ]
  },
  {
   "cell_type": "markdown",
   "metadata": {},
   "source": [
    "Currently astropy models use a _parameters property which houses a numpy array which can be handy so as to not break this lets build the array when its request it and then when it's set we distribute the values to the parameters (btw `_param_meterics` in astropy models will make the setting and getting nice as it houses the slices for each parameter)`"
   ]
  },
  {
   "cell_type": "code",
   "execution_count": 77,
   "metadata": {
    "collapsed": false
   },
   "outputs": [],
   "source": [
    "class Model(object): \n",
    "    def __init__(self):\n",
    "        self.par1 = Parameter(1)\n",
    "        self.par2 = Parameter(2)\n",
    "        #this is here to save going though every attr to find the parameters\n",
    "        self._param_attrs = [self.par1, self.par2]\n",
    "        \n",
    "    @property\n",
    "    def _parameters(self):\n",
    "        return np.array([p.value for p in self._param_attrs])\n",
    "    \n",
    "    @_parameters.setter\n",
    "    def _parameters(self, value):\n",
    "        for vv, par in zip(value, self._param_attrs):\n",
    "            par.value = vv"
   ]
  },
  {
   "cell_type": "markdown",
   "metadata": {},
   "source": [
    "Lets check this works as expected"
   ]
  },
  {
   "cell_type": "code",
   "execution_count": 78,
   "metadata": {
    "collapsed": false,
    "scrolled": true
   },
   "outputs": [
    {
     "name": "stdout",
     "output_type": "stream",
     "text": [
      "original: [1 2]\n",
      "updated: [2 3]\n"
     ]
    }
   ],
   "source": [
    "mod=Model() \n",
    "print \"original:\", mod._parameters #output original values\n",
    "mod._parameters = np.array([2, 3])#set new values\n",
    "print \"updated:\", mod._parameters #hopefully output new values"
   ]
  },
  {
   "cell_type": "markdown",
   "metadata": {},
   "source": [
    "So to check the behavior we want still holds"
   ]
  },
  {
   "cell_type": "code",
   "execution_count": 85,
   "metadata": {
    "collapsed": false
   },
   "outputs": [
    {
     "name": "stdout",
     "output_type": "stream",
     "text": [
      "original: [1 2]\n",
      "tied: [5 2]\n",
      "updated: [10  2]\n",
      "untied: [1 2]\n"
     ]
    }
   ],
   "source": [
    "mod2 = Model() #second model\n",
    "mod.par1.value = 5 #reset parameter 1 of mod\n",
    "print \"original:\", mod2._parameters #output original value for parameters\n",
    "mod2.par1.tie(mod.par1) #tie mod2.par1 to mod.par1\n",
    "print \"tied:\", mod2._parameters #output updated parameters\n",
    "mod.par1.value = 10 #change mod.par1 this should change mod2.par1\n",
    "print \"updated:\", mod2._parameters #output hopefully updated value\n",
    "mod2.par1.untie()\n",
    "print \"untied:\", mod2._parameters #hopefully back to the start"
   ]
  },
  {
   "cell_type": "markdown",
   "metadata": {},
   "source": [
    "We can also define a function which we can then evaluate when we want the value"
   ]
  },
  {
   "cell_type": "code",
   "execution_count": 86,
   "metadata": {
    "collapsed": false
   },
   "outputs": [
    {
     "name": "stdout",
     "output_type": "stream",
     "text": [
      "original: [1 2]\n",
      "tied: [10  2]\n",
      "updated: [20  2]\n",
      "untied: [1 2]\n"
     ]
    }
   ],
   "source": [
    "mod3 = Model()\n",
    "mod.par1.value = 5 #reset parameter 1 of mod\n",
    "print \"original:\", mod3._parameters #output original value for parameters\n",
    "\n",
    "def tiefunc(p1):\n",
    "    return 2*p1.value\n",
    "\n",
    "mod3.par1.tie(tiefunc,mod.par1) #tie mod2.par1 to mod.par1\n",
    "print \"tied:\", mod3._parameters #output updated parameters\n",
    "mod.par1.value = 10 #change mod.par1 this should change mod2.par1\n",
    "print \"updated:\", mod3._parameters #output hopefully updated value\n",
    "mod3.par1.untie()\n",
    "print \"untied:\", mod3._parameters #hopefully back to the start\n"
   ]
  }
 ],
 "metadata": {
  "kernelspec": {
   "display_name": "Python 2",
   "language": "python",
   "name": "python2"
  },
  "language_info": {
   "codemirror_mode": {
    "name": "ipython",
    "version": 2
   },
   "file_extension": ".py",
   "mimetype": "text/x-python",
   "name": "python",
   "nbconvert_exporter": "python",
   "pygments_lexer": "ipython2",
   "version": "2.7.11"
  }
 },
 "nbformat": 4,
 "nbformat_minor": 0
}
